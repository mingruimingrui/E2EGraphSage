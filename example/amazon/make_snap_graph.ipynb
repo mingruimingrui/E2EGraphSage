{
 "cells": [
  {
   "cell_type": "code",
   "execution_count": 1,
   "metadata": {},
   "outputs": [],
   "source": [
    "import glob\n",
    "import tqdm\n",
    "import snap\n",
    "import json\n",
    "import calendar\n",
    "import pandas as pd"
   ]
  },
  {
   "cell_type": "code",
   "execution_count": 2,
   "metadata": {},
   "outputs": [],
   "source": [
    "all_vertex_filepaths = glob.glob('/home/wangmingrui/Datasets/amazon/vertices/*')\n",
    "all_edge_filepaths = glob.glob('/home/wangmingrui/Datasets/amazon/edges/*')\n",
    "all_vertex_filepaths.sort()\n",
    "all_edge_filepaths.sort()"
   ]
  },
  {
   "cell_type": "code",
   "execution_count": 3,
   "metadata": {},
   "outputs": [
    {
     "name": "stderr",
     "output_type": "stream",
     "text": [
      "/home/wangmingrui/Datasets/amazon/vertices/Wireless_v1_00.tsv: 100%|██████████| 46/46 [03:29<00:00,  2.31s/it]\n"
     ]
    }
   ],
   "source": [
    "G = snap.TNEANet()\n",
    "product_id_to_cont = {}\n",
    "\n",
    "pbar = tqdm.tqdm(total=len(all_vertex_filepaths))\n",
    "for filepath in all_vertex_filepaths:\n",
    "    pbar.desc = filepath\n",
    "    pbar.update(1)\n",
    "    df = pd.read_csv(filepath, sep='\\t')\n",
    "    df = df[['product_id', 'product_title', 'product_category']]\n",
    "\n",
    "    for product_id, product_title, product_category in df.values:\n",
    "        if product_id in product_id_to_cont:\n",
    "            continue\n",
    "\n",
    "        product_cont_id = len(product_id_to_cont)\n",
    "        product_id_to_cont[product_id] = product_cont_id\n",
    "\n",
    "        G.AddNode(product_cont_id)\n",
    "        G.AddIntAttrDatN(product_cont_id, 1, 'is_product')\n",
    "        G.AddStrAttrDatN(product_cont_id, product_category, 'product_category')\n",
    "    del df\n",
    "pbar.close()"
   ]
  },
  {
   "cell_type": "code",
   "execution_count": 5,
   "metadata": {},
   "outputs": [
    {
     "name": "stdout",
     "output_type": "stream",
     "text": [
      "Found 21390118 vertices\n"
     ]
    }
   ],
   "source": [
    "num_product_nodes = G.GetNodes()\n",
    "print('Found {} vertices'.format(num_product_nodes))\n",
    "\n",
    "FOut = snap.TFOut('amazon_products_only.graph')\n",
    "G.Save(FOut)\n",
    "FOut.Flush()\n",
    "\n",
    "with open('amazon_product_id_to_cont.json', 'w') as f:\n",
    "    json.dump(product_id_to_cont, f)"
   ]
  },
  {
   "cell_type": "code",
   "execution_count": 3,
   "metadata": {},
   "outputs": [],
   "source": [
    "G = snap.TNEANet.Load(snap.TFIn('amazon_products_only.graph'))\n",
    "num_product_nodes = G.GetNodes()\n",
    "with open('amazon_product_id_to_cont.json', 'r') as f:\n",
    "    product_id_to_cont = json.load(f)"
   ]
  },
  {
   "cell_type": "code",
   "execution_count": null,
   "metadata": {},
   "outputs": [
    {
     "name": "stderr",
     "output_type": "stream",
     "text": [
      " 59%|█████▉    | 3477313/5906028 [01:36<01:04, 37502.45it/s]"
     ]
    }
   ],
   "source": [
    "def date_str_to_timestamp(date_str):\n",
    "    timetuple = [int(i) for i in date_str.split('-')]\n",
    "    timetuple += [0, 0, 0]\n",
    "    return calendar.timegm(timetuple)\n",
    "\n",
    "customer_id_to_cont = {}\n",
    "\n",
    "# pbar = tqdm.tqdm(total=len(all_edge_filepaths))\n",
    "for filepath in all_edge_filepaths:\n",
    "#     pbar.desc = filepath\n",
    "#     pbar.update(1)\n",
    "    df = pd.read_csv(filepath, sep='\\t')\n",
    "    df = df[[\n",
    "        'customer_id', 'product_id',\n",
    "        'star_rating', 'helpful_votes', 'total_votes',\n",
    "        'vine', 'verified_purchase', 'review_date'\n",
    "    ]]\n",
    "\n",
    "    for row in tqdm.tqdm(df.values):\n",
    "        (\n",
    "            customer_id,\n",
    "            product_id,\n",
    "            star_rating,\n",
    "            helpful_votes,\n",
    "            total_votes,\n",
    "            vine,\n",
    "            verified_purchase,\n",
    "            review_date\n",
    "        ) = row\n",
    "        \n",
    "        if customer_id not in customer_id_to_cont:\n",
    "            customer_cont_id = len(customer_id_to_cont) + num_product_nodes\n",
    "            customer_id_to_cont[customer_id] = customer_cont_id\n",
    "            G.AddNode(customer_cont_id)\n",
    "            G.AddIntAttrDatN(customer_cont_id, 0, 'is_product')\n",
    "        else:\n",
    "            customer_cont_id = customer_id_to_cont[customer_id]\n",
    "        product_cont_id = product_id_to_cont[product_id]\n",
    "\n",
    "        edge = G.AddEdge(customer_cont_id, product_cont_id)\n",
    "        G.AddIntAttrDatE(edge, star_rating, 'star_rating')\n",
    "        G.AddIntAttrDatE(edge, helpful_votes, 'helpful_votes')\n",
    "        G.AddIntAttrDatE(edge, total_votes, 'total_votes')\n",
    "        G.AddIntAttrDatE(edge, vine == 'Y', 'vine')\n",
    "        G.AddIntAttrDatE(edge, verified_purchase == 'Y', 'verified_purchase')\n",
    "        G.AddIntAttrDatE(edge, date_str_to_timestamp(review_date), 'review_date')\n",
    "# pbar.close()"
   ]
  },
  {
   "cell_type": "code",
   "execution_count": null,
   "metadata": {},
   "outputs": [],
   "source": []
  }
 ],
 "metadata": {
  "kernelspec": {
   "display_name": "Python 2",
   "language": "python",
   "name": "python2"
  },
  "language_info": {
   "codemirror_mode": {
    "name": "ipython",
    "version": 2
   },
   "file_extension": ".py",
   "mimetype": "text/x-python",
   "name": "python",
   "nbconvert_exporter": "python",
   "pygments_lexer": "ipython2",
   "version": "2.7.16"
  }
 },
 "nbformat": 4,
 "nbformat_minor": 2
}
